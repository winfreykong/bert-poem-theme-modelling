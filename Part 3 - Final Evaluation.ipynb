{
 "cells": [
  {
   "cell_type": "markdown",
   "id": "3c3017ae",
   "metadata": {},
   "source": [
    "# Finally, we will evaluate the performance of Zero Shot Classification (used facebook/bart-large-mnli as the embedding model) from Part 2"
   ]
  },
  {
   "cell_type": "code",
   "execution_count": 1,
   "id": "ff9fbbac",
   "metadata": {},
   "outputs": [],
   "source": [
    "import pandas as pd\n",
    "from transformers import pipeline\n",
    "import re\n",
    "import numpy as np\n",
    "import matplotlib.pyplot as plt"
   ]
  },
  {
   "cell_type": "code",
   "execution_count": 2,
   "id": "74eae883",
   "metadata": {},
   "outputs": [],
   "source": [
    "data = pd.read_csv('final.csv')"
   ]
  },
  {
   "cell_type": "code",
   "execution_count": 5,
   "id": "3e332558",
   "metadata": {
    "scrolled": true
   },
   "outputs": [
    {
     "data": {
      "text/html": [
       "<div>\n",
       "<style scoped>\n",
       "    .dataframe tbody tr th:only-of-type {\n",
       "        vertical-align: middle;\n",
       "    }\n",
       "\n",
       "    .dataframe tbody tr th {\n",
       "        vertical-align: top;\n",
       "    }\n",
       "\n",
       "    .dataframe thead th {\n",
       "        text-align: right;\n",
       "    }\n",
       "</style>\n",
       "<table border=\"1\" class=\"dataframe\">\n",
       "  <thead>\n",
       "    <tr style=\"text-align: right;\">\n",
       "      <th></th>\n",
       "      <th>Unnamed: 0</th>\n",
       "      <th>ID</th>\n",
       "      <th>poem_author</th>\n",
       "      <th>language</th>\n",
       "      <th>original_poem</th>\n",
       "      <th>light_clean_poem</th>\n",
       "      <th>theme</th>\n",
       "      <th>keywords</th>\n",
       "      <th>keywords_ori</th>\n",
       "      <th>keywords_eng</th>\n",
       "      <th>keyword_eng_theme</th>\n",
       "      <th>key_sentences_ori</th>\n",
       "      <th>key_sentences_eng</th>\n",
       "      <th>poem_eng</th>\n",
       "    </tr>\n",
       "  </thead>\n",
       "  <tbody>\n",
       "    <tr>\n",
       "      <th>0</th>\n",
       "      <td>0</td>\n",
       "      <td>1</td>\n",
       "      <td>Halyna Kruk</td>\n",
       "      <td>Ukrainian</td>\n",
       "      <td>***\\ncказати собі чесно, якомога чесніше,\\nтак...</td>\n",
       "      <td>*** cказати собі чесно, якомога чесніше, так н...</td>\n",
       "      <td>{'maidan', 'protest', 'revolution', 'ukraine'}</td>\n",
       "      <td>[('покладаючись', 0.3382), ('патріотичних', 0....</td>\n",
       "      <td>['покладаючись', 'патріотичних', 'втікаючи', '...</td>\n",
       "      <td>['relying on', 'patriotic', 'running away', 'W...</td>\n",
       "      <td>[{'sequence': 'relying on', 'labels': ['maidan...</td>\n",
       "      <td>['я не хочу, щоб ми довіку ходили такими глухи...</td>\n",
       "      <td>[\"I don't want us to walk down such dead ends ...</td>\n",
       "      <td>***\\nto tell yourself honestly, as honestly as...</td>\n",
       "    </tr>\n",
       "    <tr>\n",
       "      <th>1</th>\n",
       "      <td>1</td>\n",
       "      <td>2</td>\n",
       "      <td>Ostap Slyvynsky</td>\n",
       "      <td>Ukrainian</td>\n",
       "      <td>ХАЙКУ З МАЙДАНУ\\nДим у рукавах.\\nНіби йдеш з ц...</td>\n",
       "      <td>ХАЙКУ З МАЙДАНУ Дим у рукавах. Ніби йдеш з цим...</td>\n",
       "      <td>{'haiku', 'protest', 'revolution', 'poetic for...</td>\n",
       "      <td>[('пообіцяти', 0.4741), ('пустимо', 0.3054), (...</td>\n",
       "      <td>['пообіцяти', 'пустимо', 'вистоїмо', 'лісистим...</td>\n",
       "      <td>['to promise', \"let's go\", \"let's stand\", 'woo...</td>\n",
       "      <td>[{'sequence': 'to promise', 'labels': ['langua...</td>\n",
       "      <td>['пустимо качу – хай їм', 'ми вистоїмо.', 'поо...</td>\n",
       "      <td>[\"let's let the duck go - let them eat\", 'we w...</td>\n",
       "      <td>Haika from the Maidan\\nSmoke in the sleeves.\\n...</td>\n",
       "    </tr>\n",
       "    <tr>\n",
       "      <th>2</th>\n",
       "      <td>2</td>\n",
       "      <td>3</td>\n",
       "      <td>Osip Mandelstam</td>\n",
       "      <td>Russian</td>\n",
       "      <td>(О.М.)\\nНе мучнистой бабочкою белой\\nВ землю я...</td>\n",
       "      <td>(О.М.) Не мучнистой бабочкою белой В землю я з...</td>\n",
       "      <td>{'time', 'war', 'twentieth century'}</td>\n",
       "      <td>[('восклицанья', 0.381), ('мыслящее', 0.3004),...</td>\n",
       "      <td>['восклицанья', 'мыслящее', 'молчаливо', 'позв...</td>\n",
       "      <td>['exclamations', 'thinking', 'silently', 'vert...</td>\n",
       "      <td>[{'sequence': 'exclamations', 'labels': ['lang...</td>\n",
       "      <td>['Я хочу, чтоб мыслящее тело', 'Пронесла пехот...</td>\n",
       "      <td>['I want a thinking body', 'The infantry carri...</td>\n",
       "      <td>Not powdery butterfly white\\nI will return the...</td>\n",
       "    </tr>\n",
       "    <tr>\n",
       "      <th>3</th>\n",
       "      <td>3</td>\n",
       "      <td>4</td>\n",
       "      <td>Boris Khersonsky</td>\n",
       "      <td>Russian</td>\n",
       "      <td>***\\n\"Союз нерушимый\" сыграют и хором споют.\\n...</td>\n",
       "      <td>*** \"Союз нерушимый\" сыграют и хором споют. В ...</td>\n",
       "      <td>{'soviet union', 'anthem', 'morphine', 'food'}</td>\n",
       "      <td>[('проснусь', 0.3366), ('нерушимый', 0.331), (...</td>\n",
       "      <td>['проснусь', 'нерушимый', 'скрывать', 'подсыха...</td>\n",
       "      <td>['wake up', 'indestructible', 'hide', 'dries u...</td>\n",
       "      <td>[{'sequence': 'wake up', 'labels': ['time', 'p...</td>\n",
       "      <td>['Неужели им всем есть о чем подумать и что ск...</td>\n",
       "      <td>['Do they all have something to think about an...</td>\n",
       "      <td>***\\nThe \"indestructible union\" will play and ...</td>\n",
       "    </tr>\n",
       "    <tr>\n",
       "      <th>4</th>\n",
       "      <td>4</td>\n",
       "      <td>5</td>\n",
       "      <td>Oleksandr Irvanets</td>\n",
       "      <td>Ukrainian</td>\n",
       "      <td>***\\nЦей рік, який почався з середи - \\nКуди в...</td>\n",
       "      <td>*** Цей рік, який почався з середи -  Куди він...</td>\n",
       "      <td>{'time', 'new year', 'seasons'}</td>\n",
       "      <td>[('наступний', 0.4395), ('четверга', 0.2653), ...</td>\n",
       "      <td>['наступний', 'четверга', 'кочерга', 'почнетьс...</td>\n",
       "      <td>['following', 'Thursday', 'poker', 'will begin...</td>\n",
       "      <td>[{'sequence': 'following', 'labels': ['family'...</td>\n",
       "      <td>['Чи буде він прямим, як кочерга? ', 'Але наст...</td>\n",
       "      <td>['Will it be straight as a poker?', 'But next ...</td>\n",
       "      <td>***\\nThis year that started from Wednesday -\\n...</td>\n",
       "    </tr>\n",
       "    <tr>\n",
       "      <th>...</th>\n",
       "      <td>...</td>\n",
       "      <td>...</td>\n",
       "      <td>...</td>\n",
       "      <td>...</td>\n",
       "      <td>...</td>\n",
       "      <td>...</td>\n",
       "      <td>...</td>\n",
       "      <td>...</td>\n",
       "      <td>...</td>\n",
       "      <td>...</td>\n",
       "      <td>...</td>\n",
       "      <td>...</td>\n",
       "      <td>...</td>\n",
       "      <td>...</td>\n",
       "    </tr>\n",
       "    <tr>\n",
       "      <th>1005</th>\n",
       "      <td>1005</td>\n",
       "      <td>1191</td>\n",
       "      <td>Halyna Kruk</td>\n",
       "      <td>Ukrainian</td>\n",
       "      <td>#довоєнні_вірші як все змінилося, здається, що...</td>\n",
       "      <td>як все змінилося, здається, що безповоротно *...</td>\n",
       "      <td>{'school', 'tram', 'war', 'summer'}</td>\n",
       "      <td>[('повивітрюється', 0.4717), ('настовбурчиться...</td>\n",
       "      <td>['повивітрюється', 'настовбурчиться', 'наїжачи...</td>\n",
       "      <td>['airs out', 'grumble', 'get crowded', 'we bak...</td>\n",
       "      <td>[{'sequence': 'airs out', 'labels': ['time', '...</td>\n",
       "      <td>['повивітрюється, стерпне', 'скоро спекаємось ...</td>\n",
       "      <td>['airy, tolerable', 'soon we will be swelterin...</td>\n",
       "      <td>As everything has changed, it seems that irrev...</td>\n",
       "    </tr>\n",
       "    <tr>\n",
       "      <th>1006</th>\n",
       "      <td>1006</td>\n",
       "      <td>1192</td>\n",
       "      <td>Halyna Kruk</td>\n",
       "      <td>Ukrainian</td>\n",
       "      <td>#довоєнні_вірші\\nіз циклу \"Інші\"\\nнайгірше в й...</td>\n",
       "      <td>із циклу \"Інші\" найгірше в його житті  почина...</td>\n",
       "      <td>{'relationships', 'family', 'mortality', 'trav...</td>\n",
       "      <td>[('зрозумілої', 0.437), ('незнайомих', 0.2801)...</td>\n",
       "      <td>['зрозумілої', 'незнайомих', 'незнайомій', 'по...</td>\n",
       "      <td>['understandable', 'strangers', 'unfamiliar', ...</td>\n",
       "      <td>[{'sequence': 'understandable', 'labels': ['la...</td>\n",
       "      <td>['не знати, як повернутися додому ', 'висохлих...</td>\n",
       "      <td>['not knowing how to get home', 'dry, inflamed...</td>\n",
       "      <td>from the \"Others' cycle\\nthe worst in his life...</td>\n",
       "    </tr>\n",
       "    <tr>\n",
       "      <th>1007</th>\n",
       "      <td>1007</td>\n",
       "      <td>1193</td>\n",
       "      <td>Halyna Kruk</td>\n",
       "      <td>Ukrainian</td>\n",
       "      <td>#довоєнні_вірші\\nсерпень\\nжарівки груш підсвіч...</td>\n",
       "      <td>серпень жарівки груш підсвічують вночі  остан...</td>\n",
       "      <td>{'pre-war', 'fruit', 'nature', 'summer', 'seas...</td>\n",
       "      <td>[('хихочуть', 0.3834), ('сюркочуть', 0.3233), ...</td>\n",
       "      <td>['хихочуть', 'сюркочуть', 'крутять', 'підсвічу...</td>\n",
       "      <td>['giggle', 'rustling', 'spin', 'illuminate', '...</td>\n",
       "      <td>[{'sequence': 'giggle', 'labels': ['gender', '...</td>\n",
       "      <td>['намацуючи у твоїй кишені шпарку, ', 'сюркочу...</td>\n",
       "      <td>['groping for a hole in your pocket,', 'grassh...</td>\n",
       "      <td>August\\nThe pear guns are illuminated at night...</td>\n",
       "    </tr>\n",
       "    <tr>\n",
       "      <th>1008</th>\n",
       "      <td>1008</td>\n",
       "      <td>1197</td>\n",
       "      <td>Ivanna Skyba-Yakubova</td>\n",
       "      <td>Ukrainian</td>\n",
       "      <td>***\\nВисповідай мене, Апостоле.\\nТут, на темно...</td>\n",
       "      <td>*** Висповідай мене, Апостоле. Тут, на темному...</td>\n",
       "      <td>{'confession', 'apostle', 'christianity'}</td>\n",
       "      <td>[('розсвітило', 0.5218), ('межигруддя', 0.2935...</td>\n",
       "      <td>['розсвітило', 'межигруддя', 'висповідай', 'сп...</td>\n",
       "      <td>['lit up', 'interthoracic', 'confess', 'notifi...</td>\n",
       "      <td>[{'sequence': 'lit up', 'labels': ['time', 'ma...</td>\n",
       "      <td>['Цілувала його в межигруддя.', 'Поки не розсв...</td>\n",
       "      <td>['She kissed him between the breasts.', 'Until...</td>\n",
       "      <td>***\\nConfess me, the apostle.\\nHere on a dark ...</td>\n",
       "    </tr>\n",
       "    <tr>\n",
       "      <th>1009</th>\n",
       "      <td>1009</td>\n",
       "      <td>1205</td>\n",
       "      <td>Iya Kiva</td>\n",
       "      <td>Ukrainian</td>\n",
       "      <td>тримати у роті голку мовчання\\nзшивати слова б...</td>\n",
       "      <td>тримати у роті голку мовчання зшивати слова бі...</td>\n",
       "      <td>{'needle', 'speech', 'silence', 'pain'}</td>\n",
       "      <td>[('дірявому', 0.2262), ('білими', 0.2193), ('ц...</td>\n",
       "      <td>['дірявому', 'білими', 'церувати', 'називатись...</td>\n",
       "      <td>['leaky', 'white', 'to caress', 'be called', '...</td>\n",
       "      <td>[{'sequence': 'leaky', 'labels': ['maidan', 't...</td>\n",
       "      <td>['церувати придатні до вжитку речі', 'дірявому...</td>\n",
       "      <td>['to care for usable things', 'as porous as a ...</td>\n",
       "      <td>keep the needle of silence in your mouth\\nsew ...</td>\n",
       "    </tr>\n",
       "  </tbody>\n",
       "</table>\n",
       "<p>1010 rows × 14 columns</p>\n",
       "</div>"
      ],
      "text/plain": [
       "      Unnamed: 0    ID            poem_author   language  \\\n",
       "0              0     1            Halyna Kruk  Ukrainian   \n",
       "1              1     2        Ostap Slyvynsky  Ukrainian   \n",
       "2              2     3        Osip Mandelstam    Russian   \n",
       "3              3     4       Boris Khersonsky    Russian   \n",
       "4              4     5     Oleksandr Irvanets  Ukrainian   \n",
       "...          ...   ...                    ...        ...   \n",
       "1005        1005  1191            Halyna Kruk  Ukrainian   \n",
       "1006        1006  1192            Halyna Kruk  Ukrainian   \n",
       "1007        1007  1193            Halyna Kruk  Ukrainian   \n",
       "1008        1008  1197  Ivanna Skyba-Yakubova  Ukrainian   \n",
       "1009        1009  1205               Iya Kiva  Ukrainian   \n",
       "\n",
       "                                          original_poem  \\\n",
       "0     ***\\ncказати собі чесно, якомога чесніше,\\nтак...   \n",
       "1     ХАЙКУ З МАЙДАНУ\\nДим у рукавах.\\nНіби йдеш з ц...   \n",
       "2     (О.М.)\\nНе мучнистой бабочкою белой\\nВ землю я...   \n",
       "3     ***\\n\"Союз нерушимый\" сыграют и хором споют.\\n...   \n",
       "4     ***\\nЦей рік, який почався з середи - \\nКуди в...   \n",
       "...                                                 ...   \n",
       "1005  #довоєнні_вірші як все змінилося, здається, що...   \n",
       "1006  #довоєнні_вірші\\nіз циклу \"Інші\"\\nнайгірше в й...   \n",
       "1007  #довоєнні_вірші\\nсерпень\\nжарівки груш підсвіч...   \n",
       "1008  ***\\nВисповідай мене, Апостоле.\\nТут, на темно...   \n",
       "1009  тримати у роті голку мовчання\\nзшивати слова б...   \n",
       "\n",
       "                                       light_clean_poem  \\\n",
       "0     *** cказати собі чесно, якомога чесніше, так н...   \n",
       "1     ХАЙКУ З МАЙДАНУ Дим у рукавах. Ніби йдеш з цим...   \n",
       "2     (О.М.) Не мучнистой бабочкою белой В землю я з...   \n",
       "3     *** \"Союз нерушимый\" сыграют и хором споют. В ...   \n",
       "4     *** Цей рік, який почався з середи -  Куди він...   \n",
       "...                                                 ...   \n",
       "1005   як все змінилося, здається, що безповоротно *...   \n",
       "1006   із циклу \"Інші\" найгірше в його житті  почина...   \n",
       "1007   серпень жарівки груш підсвічують вночі  остан...   \n",
       "1008  *** Висповідай мене, Апостоле. Тут, на темному...   \n",
       "1009  тримати у роті голку мовчання зшивати слова бі...   \n",
       "\n",
       "                                                  theme  \\\n",
       "0        {'maidan', 'protest', 'revolution', 'ukraine'}   \n",
       "1     {'haiku', 'protest', 'revolution', 'poetic for...   \n",
       "2                  {'time', 'war', 'twentieth century'}   \n",
       "3        {'soviet union', 'anthem', 'morphine', 'food'}   \n",
       "4                       {'time', 'new year', 'seasons'}   \n",
       "...                                                 ...   \n",
       "1005                {'school', 'tram', 'war', 'summer'}   \n",
       "1006  {'relationships', 'family', 'mortality', 'trav...   \n",
       "1007  {'pre-war', 'fruit', 'nature', 'summer', 'seas...   \n",
       "1008          {'confession', 'apostle', 'christianity'}   \n",
       "1009            {'needle', 'speech', 'silence', 'pain'}   \n",
       "\n",
       "                                               keywords  \\\n",
       "0     [('покладаючись', 0.3382), ('патріотичних', 0....   \n",
       "1     [('пообіцяти', 0.4741), ('пустимо', 0.3054), (...   \n",
       "2     [('восклицанья', 0.381), ('мыслящее', 0.3004),...   \n",
       "3     [('проснусь', 0.3366), ('нерушимый', 0.331), (...   \n",
       "4     [('наступний', 0.4395), ('четверга', 0.2653), ...   \n",
       "...                                                 ...   \n",
       "1005  [('повивітрюється', 0.4717), ('настовбурчиться...   \n",
       "1006  [('зрозумілої', 0.437), ('незнайомих', 0.2801)...   \n",
       "1007  [('хихочуть', 0.3834), ('сюркочуть', 0.3233), ...   \n",
       "1008  [('розсвітило', 0.5218), ('межигруддя', 0.2935...   \n",
       "1009  [('дірявому', 0.2262), ('білими', 0.2193), ('ц...   \n",
       "\n",
       "                                           keywords_ori  \\\n",
       "0     ['покладаючись', 'патріотичних', 'втікаючи', '...   \n",
       "1     ['пообіцяти', 'пустимо', 'вистоїмо', 'лісистим...   \n",
       "2     ['восклицанья', 'мыслящее', 'молчаливо', 'позв...   \n",
       "3     ['проснусь', 'нерушимый', 'скрывать', 'подсыха...   \n",
       "4     ['наступний', 'четверга', 'кочерга', 'почнетьс...   \n",
       "...                                                 ...   \n",
       "1005  ['повивітрюється', 'настовбурчиться', 'наїжачи...   \n",
       "1006  ['зрозумілої', 'незнайомих', 'незнайомій', 'по...   \n",
       "1007  ['хихочуть', 'сюркочуть', 'крутять', 'підсвічу...   \n",
       "1008  ['розсвітило', 'межигруддя', 'висповідай', 'сп...   \n",
       "1009  ['дірявому', 'білими', 'церувати', 'називатись...   \n",
       "\n",
       "                                           keywords_eng  \\\n",
       "0     ['relying on', 'patriotic', 'running away', 'W...   \n",
       "1     ['to promise', \"let's go\", \"let's stand\", 'woo...   \n",
       "2     ['exclamations', 'thinking', 'silently', 'vert...   \n",
       "3     ['wake up', 'indestructible', 'hide', 'dries u...   \n",
       "4     ['following', 'Thursday', 'poker', 'will begin...   \n",
       "...                                                 ...   \n",
       "1005  ['airs out', 'grumble', 'get crowded', 'we bak...   \n",
       "1006  ['understandable', 'strangers', 'unfamiliar', ...   \n",
       "1007  ['giggle', 'rustling', 'spin', 'illuminate', '...   \n",
       "1008  ['lit up', 'interthoracic', 'confess', 'notifi...   \n",
       "1009  ['leaky', 'white', 'to caress', 'be called', '...   \n",
       "\n",
       "                                      keyword_eng_theme  \\\n",
       "0     [{'sequence': 'relying on', 'labels': ['maidan...   \n",
       "1     [{'sequence': 'to promise', 'labels': ['langua...   \n",
       "2     [{'sequence': 'exclamations', 'labels': ['lang...   \n",
       "3     [{'sequence': 'wake up', 'labels': ['time', 'p...   \n",
       "4     [{'sequence': 'following', 'labels': ['family'...   \n",
       "...                                                 ...   \n",
       "1005  [{'sequence': 'airs out', 'labels': ['time', '...   \n",
       "1006  [{'sequence': 'understandable', 'labels': ['la...   \n",
       "1007  [{'sequence': 'giggle', 'labels': ['gender', '...   \n",
       "1008  [{'sequence': 'lit up', 'labels': ['time', 'ma...   \n",
       "1009  [{'sequence': 'leaky', 'labels': ['maidan', 't...   \n",
       "\n",
       "                                      key_sentences_ori  \\\n",
       "0     ['я не хочу, щоб ми довіку ходили такими глухи...   \n",
       "1     ['пустимо качу – хай їм', 'ми вистоїмо.', 'поо...   \n",
       "2     ['Я хочу, чтоб мыслящее тело', 'Пронесла пехот...   \n",
       "3     ['Неужели им всем есть о чем подумать и что ск...   \n",
       "4     ['Чи буде він прямим, як кочерга? ', 'Але наст...   \n",
       "...                                                 ...   \n",
       "1005  ['повивітрюється, стерпне', 'скоро спекаємось ...   \n",
       "1006  ['не знати, як повернутися додому ', 'висохлих...   \n",
       "1007  ['намацуючи у твоїй кишені шпарку, ', 'сюркочу...   \n",
       "1008  ['Цілувала його в межигруддя.', 'Поки не розсв...   \n",
       "1009  ['церувати придатні до вжитку речі', 'дірявому...   \n",
       "\n",
       "                                      key_sentences_eng  \\\n",
       "0     [\"I don't want us to walk down such dead ends ...   \n",
       "1     [\"let's let the duck go - let them eat\", 'we w...   \n",
       "2     ['I want a thinking body', 'The infantry carri...   \n",
       "3     ['Do they all have something to think about an...   \n",
       "4     ['Will it be straight as a poker?', 'But next ...   \n",
       "...                                                 ...   \n",
       "1005  ['airy, tolerable', 'soon we will be swelterin...   \n",
       "1006  ['not knowing how to get home', 'dry, inflamed...   \n",
       "1007  ['groping for a hole in your pocket,', 'grassh...   \n",
       "1008  ['She kissed him between the breasts.', 'Until...   \n",
       "1009  ['to care for usable things', 'as porous as a ...   \n",
       "\n",
       "                                               poem_eng  \n",
       "0     ***\\nto tell yourself honestly, as honestly as...  \n",
       "1     Haika from the Maidan\\nSmoke in the sleeves.\\n...  \n",
       "2     Not powdery butterfly white\\nI will return the...  \n",
       "3     ***\\nThe \"indestructible union\" will play and ...  \n",
       "4     ***\\nThis year that started from Wednesday -\\n...  \n",
       "...                                                 ...  \n",
       "1005  As everything has changed, it seems that irrev...  \n",
       "1006  from the \"Others' cycle\\nthe worst in his life...  \n",
       "1007  August\\nThe pear guns are illuminated at night...  \n",
       "1008  ***\\nConfess me, the apostle.\\nHere on a dark ...  \n",
       "1009  keep the needle of silence in your mouth\\nsew ...  \n",
       "\n",
       "[1010 rows x 14 columns]"
      ]
     },
     "execution_count": 5,
     "metadata": {},
     "output_type": "execute_result"
    }
   ],
   "source": [
    "data"
   ]
  },
  {
   "cell_type": "markdown",
   "id": "6f5e98f1",
   "metadata": {},
   "source": [
    "#### Columns of interest: theme and keyword_eng_theme"
   ]
  },
  {
   "cell_type": "markdown",
   "id": "465b9009",
   "metadata": {},
   "source": [
    "## For each poem, we have multiple keywords. Each keyword have 3 labels (themes) in which their probabilities assigned by the Classifier are the highest 3."
   ]
  },
  {
   "cell_type": "code",
   "execution_count": 4,
   "id": "a1955a27",
   "metadata": {},
   "outputs": [
    {
     "data": {
      "text/plain": [
       "\"[{'sequence': 'relying on', 'labels': ['maidan', 'family', 'nation'], 'scores': [0.12305205315351486, 0.10531776398420334, 0.0666816458106041]}, {'sequence': 'patriotic', 'labels': ['nation', 'maidan', 'language'], 'scores': [0.4591561555862427, 0.1214393675327301, 0.08682616800069809]}, {'sequence': 'running away', 'labels': ['protest', 'time', 'animal'], 'scores': [0.1631479114294052, 0.15938355028629303, 0.12018370628356934]}, {'sequence': 'Want', 'labels': ['protest', 'maidan', 'language'], 'scores': [0.1297539621591568, 0.11201462894678116, 0.08314479887485504]}, {'sequence': 'small town', 'labels': ['maidan', 'life', 'geography'], 'scores': [0.2456987351179123, 0.15827718377113342, 0.15817879140377045]}]\""
      ]
     },
     "execution_count": 4,
     "metadata": {},
     "output_type": "execute_result"
    }
   ],
   "source": [
    "data['keyword_eng_theme'][0]"
   ]
  },
  {
   "cell_type": "markdown",
   "id": "e72223ec",
   "metadata": {},
   "source": [
    "## Our task here is to assemble the themes, i.e. all the labels shown above, and evaluate how close those themes are to the human-annotated themes\n",
    "\n",
    "### The evaluation metric we use here is the \"majority vote\". For every possible theme in the assembled list, what are the few most occurring theme?"
   ]
  },
  {
   "cell_type": "code",
   "execution_count": 11,
   "id": "a0339e30",
   "metadata": {},
   "outputs": [],
   "source": [
    "theme = data['theme']\n",
    "\n",
    "# Putting all labels together\n",
    "predicted_theme = data['keyword_eng_theme'].apply(lambda x: [i['labels'] for i in eval(x)])"
   ]
  },
  {
   "cell_type": "code",
   "execution_count": 12,
   "id": "4c6ce4d0",
   "metadata": {},
   "outputs": [
    {
     "data": {
      "text/plain": [
       "0       [[maidan, family, nation], [nation, maidan, la...\n",
       "1       [[language, maidan, time], [time, life, langua...\n",
       "2       [[language, protest, time], [time, maidan, fam...\n",
       "3       [[time, protest, life], [maidan, nature, life]...\n",
       "4       [[family, time, language], [time, season, life...\n",
       "                              ...                        \n",
       "1005    [[time, protest, death], [protest, language, m...\n",
       "1006    [[language, maidan, life], [maidan, protest, l...\n",
       "1007    [[gender, family, language], [protest, maidan,...\n",
       "1008    [[time, maidan, family], [animal, language, de...\n",
       "1009    [[maidan, time, language], [maidan, family, na...\n",
       "Name: keyword_eng_theme, Length: 1010, dtype: object"
      ]
     },
     "execution_count": 12,
     "metadata": {},
     "output_type": "execute_result"
    }
   ],
   "source": [
    "predicted_theme"
   ]
  },
  {
   "cell_type": "code",
   "execution_count": 14,
   "id": "411f3a29",
   "metadata": {
    "scrolled": false
   },
   "outputs": [
    {
     "data": {
      "text/plain": [
       "0       [maidan, family, nation, nation, maidan, langu...\n",
       "1       [language, maidan, time, time, life, language,...\n",
       "2       [language, protest, time, time, maidan, family...\n",
       "3       [time, protest, life, maidan, nature, life, ti...\n",
       "4       [family, time, language, time, season, life, g...\n",
       "                              ...                        \n",
       "1005    [time, protest, death, protest, language, maid...\n",
       "1006    [language, maidan, life, maidan, protest, lang...\n",
       "1007    [gender, family, language, protest, maidan, ti...\n",
       "1008    [time, maidan, family, animal, language, death...\n",
       "1009    [maidan, time, language, maidan, family, natio...\n",
       "Name: keyword_eng_theme, Length: 1010, dtype: object"
      ]
     },
     "execution_count": 14,
     "metadata": {},
     "output_type": "execute_result"
    }
   ],
   "source": [
    "# Flattening the list, making a list in list --> list\n",
    "predicted_theme = predicted_theme.apply(lambda x: [i for g in x for i in g])\n",
    "predicted_theme"
   ]
  },
  {
   "cell_type": "markdown",
   "id": "058ef2d2",
   "metadata": {},
   "source": [
    "Great! Now we attempt to calculate the proportion. Below is a small example on the first row"
   ]
  },
  {
   "cell_type": "code",
   "execution_count": 23,
   "id": "621ddeb7",
   "metadata": {
    "scrolled": true
   },
   "outputs": [
    {
     "data": {
      "text/plain": [
       "maidan       0.266667\n",
       "nation       0.133333\n",
       "language     0.133333\n",
       "protest      0.133333\n",
       "family       0.066667\n",
       "time         0.066667\n",
       "animal       0.066667\n",
       "life         0.066667\n",
       "geography    0.066667\n",
       "dtype: float64"
      ]
     },
     "execution_count": 23,
     "metadata": {},
     "output_type": "execute_result"
    }
   ],
   "source": [
    "pd.Series(predicted_theme[0]).value_counts(normalize=True)"
   ]
  },
  {
   "cell_type": "code",
   "execution_count": 26,
   "id": "6c6ef5f9",
   "metadata": {},
   "outputs": [
    {
     "data": {
      "text/plain": [
       "['maidan',\n",
       " 'nation',\n",
       " 'language',\n",
       " 'protest',\n",
       " 'family',\n",
       " 'time',\n",
       " 'animal',\n",
       " 'life',\n",
       " 'geography']"
      ]
     },
     "execution_count": 26,
     "metadata": {},
     "output_type": "execute_result"
    }
   ],
   "source": [
    "# We only need the ordered index\n",
    "list(pd.Series(predicted_theme[0]).value_counts(normalize=True).index)"
   ]
  },
  {
   "cell_type": "code",
   "execution_count": 27,
   "id": "b5efd806",
   "metadata": {},
   "outputs": [],
   "source": [
    "def rearrange_themes(l):\n",
    "    return list(pd.Series(l).value_counts(normalize=True).index)"
   ]
  },
  {
   "cell_type": "code",
   "execution_count": 29,
   "id": "25b36cb7",
   "metadata": {},
   "outputs": [
    {
     "name": "stderr",
     "output_type": "stream",
     "text": [
      "/tmp/ipykernel_11234/3184082607.py:2: DeprecationWarning: The default dtype for empty Series will be 'object' instead of 'float64' in a future version. Specify a dtype explicitly to silence this warning.\n",
      "  return list(pd.Series(l).value_counts(normalize=True).index)\n"
     ]
    }
   ],
   "source": [
    "predicted_theme = predicted_theme.apply(rearrange_themes)"
   ]
  },
  {
   "cell_type": "code",
   "execution_count": 30,
   "id": "d8922996",
   "metadata": {},
   "outputs": [
    {
     "data": {
      "text/plain": [
       "0       [maidan, nation, language, protest, family, ti...\n",
       "1       [language, maidan, time, nature, life, protest...\n",
       "2       [time, family, maidan, life, language, protest...\n",
       "3       [time, maidan, life, protest, nature, family, ...\n",
       "4       [time, language, family, life, maidan, season,...\n",
       "                              ...                        \n",
       "1005    [time, maidan, protest, life, death, language,...\n",
       "1006    [maidan, language, protest, time, family, life...\n",
       "1007    [family, maidan, time, gender, language, prote...\n",
       "1008      [language, time, maidan, family, animal, death]\n",
       "1009     [maidan, language, time, family, nation, gender]\n",
       "Name: keyword_eng_theme, Length: 1010, dtype: object"
      ]
     },
     "execution_count": 30,
     "metadata": {},
     "output_type": "execute_result"
    }
   ],
   "source": [
    "predicted_theme"
   ]
  },
  {
   "cell_type": "markdown",
   "id": "9993536a",
   "metadata": {},
   "source": [
    "### Great! Let's compare in the following order:\n",
    "1. Top 1 theme is in the human-annotated themes list\n",
    "2. Top 2 themes are in the human-annotated themes list\n",
    "3. Top 3 themes are in the human-annotated themes list"
   ]
  },
  {
   "cell_type": "code",
   "execution_count": 37,
   "id": "fb7dc5d9",
   "metadata": {},
   "outputs": [
    {
     "data": {
      "text/plain": [
       "0          {'maidan', 'protest', 'revolution', 'ukraine'}\n",
       "1       {'haiku', 'protest', 'revolution', 'poetic for...\n",
       "2                    {'time', 'war', 'twentieth century'}\n",
       "3          {'soviet union', 'anthem', 'morphine', 'food'}\n",
       "4                         {'time', 'new year', 'seasons'}\n",
       "                              ...                        \n",
       "1005                  {'school', 'tram', 'war', 'summer'}\n",
       "1006    {'relationships', 'family', 'mortality', 'trav...\n",
       "1007    {'pre-war', 'fruit', 'nature', 'summer', 'seas...\n",
       "1008            {'confession', 'apostle', 'christianity'}\n",
       "1009              {'needle', 'speech', 'silence', 'pain'}\n",
       "Name: theme, Length: 1010, dtype: object"
      ]
     },
     "execution_count": 37,
     "metadata": {},
     "output_type": "execute_result"
    }
   ],
   "source": [
    "# Below is the human-annotated theme we've gotten from the \"theme\" column\n",
    "theme"
   ]
  },
  {
   "cell_type": "code",
   "execution_count": 39,
   "id": "bdfec890",
   "metadata": {},
   "outputs": [
    {
     "data": {
      "text/plain": [
       "{'maidan', 'protest', 'revolution', 'ukraine'}"
      ]
     },
     "execution_count": 39,
     "metadata": {},
     "output_type": "execute_result"
    }
   ],
   "source": [
    "eval(theme[0])"
   ]
  },
  {
   "cell_type": "markdown",
   "id": "dd93ce29",
   "metadata": {},
   "source": [
    "### Caveat: The human-annotated themes does not really follow exactly the list of big_themes we have set. Therefore, the results might or might not be below expectation. "
   ]
  },
  {
   "cell_type": "code",
   "execution_count": 34,
   "id": "401f5e51",
   "metadata": {},
   "outputs": [
    {
     "data": {
      "text/plain": [
       "0         maidan\n",
       "1       language\n",
       "2           time\n",
       "3           time\n",
       "4           time\n",
       "          ...   \n",
       "1005        time\n",
       "1006      maidan\n",
       "1007      family\n",
       "1008    language\n",
       "1009      maidan\n",
       "Name: keyword_eng_theme, Length: 1010, dtype: object"
      ]
     },
     "execution_count": 34,
     "metadata": {},
     "output_type": "execute_result"
    }
   ],
   "source": [
    "# Top 1 theme is in the human-annotated themes list\n",
    "top1_predicted_theme = predicted_theme.apply(lambda x: x[0] if len(x) > 0 else None)\n",
    "top1_predicted_theme"
   ]
  },
  {
   "cell_type": "code",
   "execution_count": 35,
   "id": "0e0ccad0",
   "metadata": {},
   "outputs": [
    {
     "data": {
      "text/plain": [
       "1010"
      ]
     },
     "execution_count": 35,
     "metadata": {},
     "output_type": "execute_result"
    }
   ],
   "source": [
    "len(top1_predicted_theme)"
   ]
  },
  {
   "cell_type": "code",
   "execution_count": 41,
   "id": "078d3c95",
   "metadata": {},
   "outputs": [],
   "source": [
    "contains = 0\n",
    "for i in range(len(top1_predicted_theme)):\n",
    "    if top1_predicted_theme[i] in eval(theme[i]):\n",
    "        contains += 1"
   ]
  },
  {
   "cell_type": "code",
   "execution_count": 43,
   "id": "19e7ac1d",
   "metadata": {},
   "outputs": [
    {
     "data": {
      "text/plain": [
       "0.05643564356435644"
      ]
     },
     "execution_count": 43,
     "metadata": {},
     "output_type": "execute_result"
    }
   ],
   "source": [
    "contains/len(top1_predicted_theme)"
   ]
  },
  {
   "cell_type": "markdown",
   "id": "5a35f408",
   "metadata": {},
   "source": [
    "### 5% of the human-curated theme list contains the exact same theme as the top1 predicted theme\n",
    "\n",
    "#### This is very much below expectation, but as mentioned, there is a high possibility for this to happen given the noise in the human-annotated themes (annotated by different individuals) and the unexplained uncertainty in the Classifier itself"
   ]
  },
  {
   "cell_type": "code",
   "execution_count": 46,
   "id": "2cbc867f",
   "metadata": {},
   "outputs": [
    {
     "data": {
      "text/plain": [
       "0         {maidan, nation}\n",
       "1       {maidan, language}\n",
       "2           {time, family}\n",
       "3           {maidan, time}\n",
       "4         {time, language}\n",
       "               ...        \n",
       "1005        {maidan, time}\n",
       "1006    {maidan, language}\n",
       "1007      {maidan, family}\n",
       "1008      {time, language}\n",
       "1009    {maidan, language}\n",
       "Name: keyword_eng_theme, Length: 1010, dtype: object"
      ]
     },
     "execution_count": 46,
     "metadata": {},
     "output_type": "execute_result"
    }
   ],
   "source": [
    "# Top 2 themes are in the human-annotated themes list\n",
    "top2_predicted_theme = predicted_theme.apply(lambda x: set(x[:2]) if len(x) > 0 else None)\n",
    "top2_predicted_theme"
   ]
  },
  {
   "cell_type": "code",
   "execution_count": 51,
   "id": "3ab8829b",
   "metadata": {},
   "outputs": [
    {
     "data": {
      "text/plain": [
       "{'maidan'}"
      ]
     },
     "execution_count": 51,
     "metadata": {},
     "output_type": "execute_result"
    }
   ],
   "source": [
    "{'maidan', 'nation'}.intersection({'maidan', 'protest', 'revolution', 'ukraine'})"
   ]
  },
  {
   "cell_type": "code",
   "execution_count": 54,
   "id": "c986bf07",
   "metadata": {},
   "outputs": [],
   "source": [
    "contains = 0\n",
    "for i in range(len(top2_predicted_theme)):\n",
    "    if top2_predicted_theme[i]:\n",
    "        if top2_predicted_theme[i].intersection(eval(theme[i])):\n",
    "            contains += 1"
   ]
  },
  {
   "cell_type": "code",
   "execution_count": 55,
   "id": "46b9e750",
   "metadata": {},
   "outputs": [
    {
     "data": {
      "text/plain": [
       "137"
      ]
     },
     "execution_count": 55,
     "metadata": {},
     "output_type": "execute_result"
    }
   ],
   "source": [
    "contains"
   ]
  },
  {
   "cell_type": "code",
   "execution_count": 56,
   "id": "bfcf36df",
   "metadata": {},
   "outputs": [
    {
     "data": {
      "text/plain": [
       "0.13564356435643565"
      ]
     },
     "execution_count": 56,
     "metadata": {},
     "output_type": "execute_result"
    }
   ],
   "source": [
    "contains/len(top1_predicted_theme)"
   ]
  },
  {
   "cell_type": "markdown",
   "id": "c5750c51",
   "metadata": {},
   "source": [
    "### Increased to 13.5% of the human-curated theme list contains the exact same theme as the top2 predicted themes"
   ]
  },
  {
   "cell_type": "code",
   "execution_count": 57,
   "id": "c03804e7",
   "metadata": {},
   "outputs": [
    {
     "data": {
      "text/plain": [
       "0        {maidan, nation, language}\n",
       "1          {maidan, time, language}\n",
       "2            {maidan, time, family}\n",
       "3              {maidan, time, life}\n",
       "4          {time, family, language}\n",
       "                   ...             \n",
       "1005        {maidan, time, protest}\n",
       "1006    {maidan, protest, language}\n",
       "1007         {time, maidan, family}\n",
       "1008       {maidan, time, language}\n",
       "1009       {maidan, time, language}\n",
       "Name: keyword_eng_theme, Length: 1010, dtype: object"
      ]
     },
     "execution_count": 57,
     "metadata": {},
     "output_type": "execute_result"
    }
   ],
   "source": [
    "# Top 3 themes are in the human-annotated themes list\n",
    "top3_predicted_theme = predicted_theme.apply(lambda x: set(x[:3]) if len(x) > 0 else None)\n",
    "top3_predicted_theme"
   ]
  },
  {
   "cell_type": "code",
   "execution_count": 58,
   "id": "b900c718",
   "metadata": {},
   "outputs": [],
   "source": [
    "contains = 0\n",
    "for i in range(len(top3_predicted_theme)):\n",
    "    if top3_predicted_theme[i]:\n",
    "        if top3_predicted_theme[i].intersection(eval(theme[i])):\n",
    "            contains += 1"
   ]
  },
  {
   "cell_type": "code",
   "execution_count": 59,
   "id": "25ed2ba0",
   "metadata": {},
   "outputs": [
    {
     "data": {
      "text/plain": [
       "190"
      ]
     },
     "execution_count": 59,
     "metadata": {},
     "output_type": "execute_result"
    }
   ],
   "source": [
    "contains"
   ]
  },
  {
   "cell_type": "code",
   "execution_count": 60,
   "id": "c1df8aa1",
   "metadata": {},
   "outputs": [
    {
     "data": {
      "text/plain": [
       "0.18811881188118812"
      ]
     },
     "execution_count": 60,
     "metadata": {},
     "output_type": "execute_result"
    }
   ],
   "source": [
    "contains/len(top1_predicted_theme)"
   ]
  },
  {
   "cell_type": "markdown",
   "id": "840876cf",
   "metadata": {},
   "source": [
    "### Increased to 18.8% of the human-curated theme list contains the exact same theme as the top3 predicted themes!"
   ]
  },
  {
   "cell_type": "markdown",
   "id": "ec2fcb81",
   "metadata": {},
   "source": [
    "Some key takeaways:\n",
    "1. In this project, zero shot classification seems to work pretty good at associating words/short phrases (keyword) with another word (theme) given that there isn't much context fed into the model. The strength of zero shot classification is very obvious when compared to spacy's word similarity and WordNet from NLTK (we saw this in Part 1).\n",
    "\n",
    "2. As for KeyBERT, this project did not explicitly evaluate how well KeyBERT is at extracting keywords. Generally, based on a few observations, we could see that KeyBERT also extracted metaphors \"by accident\" (well, not actually by accident, but this is more like a by-project). This is an area that I would continue to explore and validate in Spring as a passion project.\n",
    "\n",
    "3. Another important consideration would be the explanability/interpretability of the models we have built. Here, we are putting a certain extent of trust in the backend mechanism of the models and commenting on the model solely based on its output. Not to forget that explanability and interpretability are important scopes in ethical AI.\n",
    "\n",
    "Further improvement:\n",
    "1. Considering the fact that the structure of poems is very different from typical passages/stories - there are more implicit meanings and less direct pointers to living/non-living things/incidents, it would be better if we could train a model on poem specifically instead of using a (general) pre-trained model.\n",
    "\n",
    "2. Testing on different embedding models like the xlm series.\n",
    "\n",
    "3. Notice that there is a huge variance in the human-annotated themes, it is key to ensure consistent annotation ofr better performance."
   ]
  },
  {
   "cell_type": "markdown",
   "id": "a022716b",
   "metadata": {},
   "source": [
    "## Thank you!"
   ]
  }
 ],
 "metadata": {
  "kernelspec": {
   "display_name": "Python 3 (clean)",
   "language": "python",
   "name": "python3_clean"
  },
  "language_info": {
   "codemirror_mode": {
    "name": "ipython",
    "version": 3
   },
   "file_extension": ".py",
   "mimetype": "text/x-python",
   "name": "python",
   "nbconvert_exporter": "python",
   "pygments_lexer": "ipython3",
   "version": "3.9.5"
  }
 },
 "nbformat": 4,
 "nbformat_minor": 5
}
